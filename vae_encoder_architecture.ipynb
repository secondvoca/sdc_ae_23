{
 "cells": [
  {
   "cell_type": "code",
   "execution_count": 3,
   "metadata": {},
   "outputs": [],
   "source": [
    "from myAE import Manager\n",
    "\n",
    "import torch\n",
    "from torch import nn\n",
    "import torch.nn.functional as F\n"
   ]
  },
  {
   "cell_type": "code",
   "execution_count": 47,
   "metadata": {},
   "outputs": [],
   "source": [
    "class My_Encoder_0(nn.Module):\n",
    "    def __init__(self, dim_encoder_output, activation='tanh'):\n",
    "        super().__init__()\n",
    "        if activation == \"tanh\":\n",
    "            self.activation = torch.tanh\n",
    "        self.fln = nn.Flatten()\n",
    "        self.l0 = nn.Linear(784, 512)\n",
    "        self.l1 = nn.Linear(512, 512)\n",
    "        self.l2 = nn.Linear(512, dim_encoder_output)\n",
    "\n",
    "    def forward(self, x):\n",
    "        x = self.fln(x)\n",
    "        h = self.activation(self.l0(x))\n",
    "        h = self.activation(self.l1(h))\n",
    "        z = self.l2(h)\n",
    "        return z\n",
    "\n",
    "\n",
    "class My_Encoder_1(nn.Module):\n",
    "    def __init__(self, dim_encoder_output, activation='tanh'):\n",
    "        super().__init__()\n",
    "        if activation == \"tanh\":\n",
    "            self.activation = torch.tanh\n",
    "        self.fln = nn.Flatten()\n",
    "        self.lm0 = nn.Linear(784, 318)\n",
    "        self.lm1 = nn.Linear(318, 256)\n",
    "        self.ls0 = nn.Linear(784, 318)\n",
    "        self.ls1 = nn.Linear(318, 256)\n",
    "        self.l2 = nn.Linear(512, dim_encoder_output)\n",
    "\n",
    "    def forward(self, x):\n",
    "        x = self.fln(x)\n",
    "        m = self.activation(self.lm0(x))\n",
    "        m = self.activation(self.lm1(m))\n",
    "\n",
    "        s = self.activation(self.ls0(x))\n",
    "        s = self.activation(self.ls1(s))\n",
    "\n",
    "        z = self.l2(torch.cat([m, s], dim=1))\n",
    "        return z\n",
    "\n",
    "class My_Encoder_1_0(nn.Module):\n",
    "    def __init__(self, dim_encoder_output, dim_m, activation='tanh'):\n",
    "        super().__init__()\n",
    "        if activation == \"tanh\":\n",
    "            self.activation = torch.tanh\n",
    "        self.fln = nn.Flatten()\n",
    "        self.lm0 = nn.Linear(784, dim_m)\n",
    "        self.lm1 = nn.Linear(dim_m, 256)\n",
    "        self.ls0 = nn.Linear(784, 512 - dim_m)\n",
    "        self.ls1 = nn.Linear(512 - dim_m, 256)\n",
    "        self.l2 = nn.Linear(512, dim_encoder_output)\n",
    "\n",
    "    def forward(self, x):\n",
    "        x = self.fln(x)\n",
    "        m = self.activation(self.lm0(x))\n",
    "        m = self.activation(self.lm1(m))\n",
    "\n",
    "        s = self.activation(self.ls0(x))\n",
    "        s = self.activation(self.ls1(s))\n",
    "\n",
    "        z = self.l2(torch.cat([m, s], dim=1))\n",
    "        return z\n",
    "\n",
    "\n",
    "class My_Decoder(nn.Module):\n",
    "    def __init__(self, dim_decoder_input, activation='tanh'):\n",
    "        super().__init__()\n",
    "        if activation == \"tanh\":\n",
    "            self.activation = torch.tanh\n",
    "        self.l0 = nn.Linear(dim_decoder_input, 512)\n",
    "        self.l1 = nn.Linear(512, 512)\n",
    "        self.l2 = nn.Linear(512, 784)\n",
    "        self.unfln = nn.Unflatten(1, [1, 28, 28])\n",
    "\n",
    "    def forward(self, z):\n",
    "        x_hat = self.activation(self.l0(z))\n",
    "        x_hat = self.activation(self.l1(x_hat))\n",
    "        x_hat = torch.sigmoid(self.l2(x_hat))\n",
    "        x_hat = self.unfln(x_hat)\n",
    "        return x_hat\n",
    "\n",
    "    def step_1(self, z):\n",
    "        h = self.activation(self.l0(z))\n",
    "        h = self.activation(self.l1(h))\n",
    "        return h\n",
    "\n",
    "    def step_2(self, h):\n",
    "        x_hat = torch.sigmoid(self.l2(h))\n",
    "        x_hat = self.unfln(x_hat)\n",
    "        return x_hat\n"
   ]
  },
  {
   "cell_type": "code",
   "execution_count": 21,
   "metadata": {},
   "outputs": [
    {
     "data": {
      "text/plain": [
       "torch.Size([128, 512])"
      ]
     },
     "execution_count": 21,
     "metadata": {},
     "output_type": "execute_result"
    }
   ],
   "source": [
    "tmp  = torch.cat([torch.rand(128, 256), torch.rand(128, 256)], dim=1)\n",
    "tmp.shape"
   ]
  },
  {
   "cell_type": "code",
   "execution_count": 48,
   "metadata": {},
   "outputs": [
    {
     "name": "stdout",
     "output_type": "stream",
     "text": [
      "666628\n",
      "535556\n"
     ]
    }
   ],
   "source": [
    "model = My_Encoder_0(4)\n",
    "print(sum(p.numel() for p in model.parameters()))\n",
    "model = My_Encoder_1_0(4, 400)\n",
    "print(sum(p.numel() for p in model.parameters()))"
   ]
  },
  {
   "cell_type": "code",
   "execution_count": 10,
   "metadata": {},
   "outputs": [
    {
     "name": "stdout",
     "output_type": "stream",
     "text": [
      "Now, it is working on cuda:0.\n"
     ]
    },
    {
     "name": "stderr",
     "output_type": "stream",
     "text": [
      "100%|██████████| 50/50 [04:42<00:00,  5.65s/it]\n"
     ]
    }
   ],
   "source": [
    "def calc_loss(model, x, y, F, device):\n",
    "    h = model.get_submodule(\"encoder\")(x)\n",
    "    mu = h[:, :2]\n",
    "    log_sigma = h[:, 2:4]\n",
    "    sigma = log_sigma.exp()\n",
    "    z = torch.rand_like(mu, device=device) * sigma + mu\n",
    "    pred = model.get_submodule(\"decoder\")(z)\n",
    "    kl = 0.5*(mu.square() + sigma.square() - log_sigma - 1).sum(dim=1).mean()\n",
    "    ll = F.binary_cross_entropy(pred, x, reduction='sum')/len(x)\n",
    "    loss = ll + kl\n",
    "    return loss\n",
    "\n",
    "manager = Manager()\n",
    "manager.prepare_data()\n",
    "manager.set_model(My_Encoder_0(4), My_Decoder(2))\n",
    "\n",
    "hist = manager.train(calc_loss, epochs=50)"
   ]
  },
  {
   "cell_type": "code",
   "execution_count": 23,
   "metadata": {},
   "outputs": [
    {
     "name": "stdout",
     "output_type": "stream",
     "text": [
      "Now, it is working on cuda:0.\n"
     ]
    },
    {
     "name": "stderr",
     "output_type": "stream",
     "text": [
      "100%|██████████| 50/50 [04:57<00:00,  5.96s/it]\n"
     ]
    }
   ],
   "source": [
    "manager_1 = Manager()\n",
    "manager_1.prepare_data()\n",
    "manager_1.set_model(My_Encoder_1(4), My_Decoder(2))\n",
    "\n",
    "hist_1 = manager_1.train(calc_loss, epochs=50)"
   ]
  },
  {
   "cell_type": "markdown",
   "metadata": {},
   "source": [
    "- manager_1_1은 파라메터 맞춘것 , 첫 층이 318\n",
    "- 1 2 는 평균에 400"
   ]
  },
  {
   "cell_type": "code",
   "execution_count": 37,
   "metadata": {},
   "outputs": [
    {
     "name": "stdout",
     "output_type": "stream",
     "text": [
      "Now, it is working on cuda:0.\n"
     ]
    },
    {
     "name": "stderr",
     "output_type": "stream",
     "text": [
      "100%|██████████| 50/50 [05:49<00:00,  7.00s/it]\n"
     ]
    }
   ],
   "source": [
    "manager_1_1 = Manager()\n",
    "manager_1_1.prepare_data()\n",
    "manager_1_1.set_model(My_Encoder_1(4), My_Decoder(2))\n",
    "\n",
    "hist_1_1 = manager_1_1.train(calc_loss, epochs=50)"
   ]
  },
  {
   "cell_type": "code",
   "execution_count": 50,
   "metadata": {},
   "outputs": [
    {
     "name": "stdout",
     "output_type": "stream",
     "text": [
      "Now, it is working on cuda:0.\n"
     ]
    },
    {
     "name": "stderr",
     "output_type": "stream",
     "text": [
      "100%|██████████| 50/50 [06:18<00:00,  7.57s/it]\n"
     ]
    }
   ],
   "source": [
    "manager_1_2 = Manager()\n",
    "manager_1_2.prepare_data()\n",
    "manager_1_2.set_model(My_Encoder_1_0(4, 400), My_Decoder(2))\n",
    "\n",
    "hist_1_2 = manager_1_2.train(calc_loss, epochs=50)"
   ]
  },
  {
   "cell_type": "code",
   "execution_count": 54,
   "metadata": {},
   "outputs": [
    {
     "name": "stdout",
     "output_type": "stream",
     "text": [
      "Now, it is working on cuda:0.\n"
     ]
    },
    {
     "name": "stderr",
     "output_type": "stream",
     "text": [
      "100%|██████████| 50/50 [06:33<00:00,  7.88s/it]\n"
     ]
    }
   ],
   "source": [
    "manager_1_3 = Manager()\n",
    "manager_1_3.prepare_data()\n",
    "manager_1_3.set_model(My_Encoder_1_0(4, 512 - 400), My_Decoder(2))\n",
    "\n",
    "hist_1_3 = manager_1_3.train(calc_loss, epochs=50)"
   ]
  },
  {
   "cell_type": "code",
   "execution_count": 57,
   "metadata": {},
   "outputs": [
    {
     "data": {
      "image/png": "[encoded data removed]",
      "text/plain": [
       "<Figure size 640x480 with 1 Axes>"
      ]
     },
     "metadata": {},
     "output_type": "display_data"
    }
   ],
   "source": [
    "import matplotlib.pyplot as plt\n",
    "\n",
    "plt.plot(hist[:1000])\n",
    "plt.plot(hist_1_3[:1000])\n",
    "plt.show()"
   ]
  }
 ],
 "metadata": {
  "kernelspec": {
   "display_name": "torch",
   "language": "python",
   "name": "python3"
  },
  "language_info": {
   "codemirror_mode": {
    "name": "ipython",
    "version": 3
   },
   "file_extension": ".py",
   "mimetype": "text/x-python",
   "name": "python",
   "nbconvert_exporter": "python",
   "pygments_lexer": "ipython3",
   "version": "3.9.15"
  },
  "orig_nbformat": 4
 },
 "nbformat": 4,
 "nbformat_minor": 2
}
