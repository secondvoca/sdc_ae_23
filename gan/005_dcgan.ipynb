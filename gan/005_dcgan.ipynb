{
 "cells": [
  {
   "cell_type": "code",
   "execution_count": 1,
   "metadata": {},
   "outputs": [],
   "source": [
    "import torch\n",
    "from torch import nn\n",
    "from torchvision import datasets, transforms\n",
    "from torch.utils.data import DataLoader\n",
    "\n",
    "import matplotlib.pyplot as plt\n",
    "\n",
    "from tqdm import tqdm"
   ]
  },
  {
   "cell_type": "code",
   "execution_count": 37,
   "metadata": {},
   "outputs": [],
   "source": [
    "generator = nn.Sequential(\n",
    "    nn.ConvTranspose2d(10, 1024, 4),\n",
    "    nn.BatchNorm2d(1024),\n",
    "    nn.ReLU(),\n",
    "    nn.ConvTranspose2d(1024, 512, 4, 2),\n",
    "    nn.BatchNorm2d(512),\n",
    "    nn.ReLU(),\n",
    "    nn.ConvTranspose2d(512, 256, 4, 2),\n",
    "    nn.BatchNorm2d(256),\n",
    "    nn.ReLU(),\n",
    "    nn.ConvTranspose2d(256, 128, 4, 1),\n",
    "    nn.BatchNorm2d(128),\n",
    "    nn.ReLU(),\n",
    "    nn.ConvTranspose2d(128, 1, 4, 1),\n",
    "    nn.Sigmoid(),\n",
    ")\n",
    "\n",
    "discriminator = nn.Sequential(\n",
    "    nn.Conv2d(1, 16, 4, 2, 1),\n",
    "    nn.BatchNorm2d(16),\n",
    "    nn.ReLU(),\n",
    "    nn.Conv2d(16, 8, 4, 2, 1),\n",
    "    nn.BatchNorm2d(8),\n",
    "    nn.ReLU(),\n",
    "    nn.Conv2d(8, 4, 4, 2, 1),\n",
    "    nn.BatchNorm2d(4),\n",
    "    nn.ReLU(),\n",
    "    nn.Conv2d(4, 1, 3),\n",
    "    nn.Sigmoid(),\n",
    ")\n",
    "\n",
    "opt_g = torch.optim.Adam(generator.parameters())\n",
    "opt_d = torch.optim.Adam(discriminator.parameters())\n",
    "\n",
    "criterion = nn.BCELoss()\n",
    "\n",
    "training_data = datasets.MNIST(\n",
    "    root=\"/home/secondvoca/sdc_ae_23/data\",\n",
    "    train=True,\n",
    "    download=True,\n",
    "    transform=transforms.ToTensor(),\n",
    ")\n",
    "\n",
    "dataloader = DataLoader(training_data, batch_size=128, shuffle=True)"
   ]
  },
  {
   "cell_type": "code",
   "execution_count": 24,
   "metadata": {},
   "outputs": [],
   "source": [
    "def train(generator, discriminator, opt_g, opt_d, criterion, dataloader, epochs, dim_latent):\n",
    "    if torch.cuda.is_available():\n",
    "        cuda_count = torch.cuda.device_count()\n",
    "\n",
    "        no = 0\n",
    "        mem_available = 0\n",
    "\n",
    "        for i in range(cuda_count):\n",
    "            tmp_available = torch.cuda.mem_get_info(i)[0]\n",
    "            if mem_available < tmp_available:\n",
    "                no = i\n",
    "                mem_available = tmp_available\n",
    "        device = f\"cuda:{no}\"\n",
    "    else:\n",
    "        device = \"cpu\"\n",
    "\n",
    "    print(f\"Now, it's working on {device}.\")\n",
    "\n",
    "\n",
    "    generator.to(device)\n",
    "    discriminator.to(device)\n",
    "\n",
    "    generator.train()\n",
    "    discriminator.train()\n",
    "\n",
    "    for _ in tqdm(range(epochs)):\n",
    "        for x, _ in dataloader:\n",
    "\n",
    "            batch_size = len(x)\n",
    "            x = x.to(device)\n",
    "            \n",
    "            noise = torch.randn(batch_size, dim_latent, 1, 1, device=device)\n",
    "            fake_data = generator(noise).detach()\n",
    "\n",
    "            opt_d.zero_grad()\n",
    "            \n",
    "            prediction_real = discriminator(x).view(-1)\n",
    "            error_real = criterion(prediction_real, torch.ones(batch_size, device=device))\n",
    "            error_real.backward()\n",
    "\n",
    "            prediction_fake = discriminator(fake_data).view(-1)\n",
    "            error_fake = criterion(prediction_fake, torch.zeros(batch_size, device=device))\n",
    "            \n",
    "            error_fake.backward()\n",
    "            opt_d.step()\n",
    "\n",
    "            noise = torch.randn(batch_size, dim_latent, 1, 1, device=device)\n",
    "            fake_data = generator(noise)\n",
    "\n",
    "            opt_g.zero_grad()\n",
    "            \n",
    "            prediction = discriminator(fake_data).view(-1)\n",
    "            error = criterion(prediction, torch.ones(batch_size, device=device))\n",
    "            \n",
    "            error.backward()\n",
    "            opt_g.step()\n",
    "\n",
    "    generator.to(\"cpu\")\n",
    "    discriminator.to(\"cpu\")\n",
    "\n",
    "    generator.eval()\n",
    "    discriminator.eval()"
   ]
  },
  {
   "cell_type": "code",
   "execution_count": 28,
   "metadata": {},
   "outputs": [
    {
     "name": "stdout",
     "output_type": "stream",
     "text": [
      "Now, it's working on cuda:0.\n"
     ]
    },
    {
     "name": "stderr",
     "output_type": "stream",
     "text": [
      "  0%|          | 0/10 [00:00<?, ?it/s]"
     ]
    },
    {
     "name": "stderr",
     "output_type": "stream",
     "text": [
      "100%|██████████| 10/10 [02:08<00:00, 12.84s/it]\n"
     ]
    }
   ],
   "source": [
    "train(generator, discriminator, opt_g, opt_d, criterion, dataloader, 10, 10)"
   ]
  },
  {
   "cell_type": "code",
   "execution_count": 19,
   "metadata": {},
   "outputs": [],
   "source": [
    "def test_generator(model, dim_latent):\n",
    "    z = torch.randn(10, dim_latent, 1, 1)\n",
    "    with torch.no_grad():\n",
    "        imgs = model(z)\n",
    "        print(imgs.shape)\n",
    "        print(imgs.max().item(), imgs.min().item())\n",
    "    _, axs = plt.subplots(1, 10, figsize=[20, 4])\n",
    "    for img, ax in zip(imgs, axs):\n",
    "        ax.imshow(img.view(28, 28), cmap=\"gray\", vmax=1, vmin=0)\n",
    "        ax.axis(\"off\")\n",
    "    plt.tight_layout()"
   ]
  },
  {
   "cell_type": "code",
   "execution_count": 29,
   "metadata": {},
   "outputs": [
    {
     "name": "stdout",
     "output_type": "stream",
     "text": [
      "torch.Size([10, 1, 28, 28])\n",
      "1.0 0.0\n"
     ]
    },
    {
     "data": {
      "image/png": "[encoded data removed]",
      "text/plain": [
       "<Figure size 2000x400 with 10 Axes>"
      ]
     },
     "metadata": {},
     "output_type": "display_data"
    }
   ],
   "source": [
    "dim_latent = 10\n",
    "test_generator(generator, dim_latent)"
   ]
  },
  {
   "cell_type": "code",
   "execution_count": 31,
   "metadata": {},
   "outputs": [
    {
     "name": "stdout",
     "output_type": "stream",
     "text": [
      "Now, it's working on cuda:0.\n"
     ]
    },
    {
     "name": "stderr",
     "output_type": "stream",
     "text": [
      "  0%|          | 0/10 [00:00<?, ?it/s]"
     ]
    },
    {
     "name": "stderr",
     "output_type": "stream",
     "text": [
      "100%|██████████| 10/10 [02:08<00:00, 12.86s/it]\n"
     ]
    }
   ],
   "source": [
    "train(generator, discriminator, opt_g, opt_d, criterion, dataloader, 10, 100)"
   ]
  },
  {
   "cell_type": "code",
   "execution_count": 32,
   "metadata": {},
   "outputs": [
    {
     "name": "stdout",
     "output_type": "stream",
     "text": [
      "torch.Size([10, 1, 28, 28])\n",
      "1.0 0.0\n"
     ]
    },
    {
     "data": {
      "image/png": "[encoded data removed]",
      "text/plain": [
       "<Figure size 2000x400 with 10 Axes>"
      ]
     },
     "metadata": {},
     "output_type": "display_data"
    }
   ],
   "source": [
    "dim_latent = 100\n",
    "test_generator(generator, dim_latent)"
   ]
  },
  {
   "cell_type": "code",
   "execution_count": 35,
   "metadata": {},
   "outputs": [
    {
     "name": "stdout",
     "output_type": "stream",
     "text": [
      "Now, it's working on cuda:0.\n"
     ]
    },
    {
     "name": "stderr",
     "output_type": "stream",
     "text": [
      "  0%|          | 0/100 [00:00<?, ?it/s]"
     ]
    },
    {
     "name": "stderr",
     "output_type": "stream",
     "text": [
      "100%|██████████| 100/100 [21:23<00:00, 12.84s/it]\n"
     ]
    },
    {
     "name": "stdout",
     "output_type": "stream",
     "text": [
      "torch.Size([10, 1, 28, 28])\n",
      "1.0 3.3499024061726094e-37\n"
     ]
    },
    {
     "data": {
      "image/png": "[encoded data removed]",
      "text/plain": [
       "<Figure size 2000x400 with 10 Axes>"
      ]
     },
     "metadata": {},
     "output_type": "display_data"
    }
   ],
   "source": [
    "train(generator, discriminator, opt_g, opt_d, criterion, dataloader, 100, 10)\n",
    "dim_latent = 10\n",
    "test_generator(generator, dim_latent)"
   ]
  },
  {
   "cell_type": "code",
   "execution_count": 38,
   "metadata": {},
   "outputs": [
    {
     "name": "stdout",
     "output_type": "stream",
     "text": [
      "Now, it's working on cuda:0.\n"
     ]
    },
    {
     "name": "stderr",
     "output_type": "stream",
     "text": [
      "100%|██████████| 10/10 [02:43<00:00, 16.33s/it]\n"
     ]
    },
    {
     "name": "stdout",
     "output_type": "stream",
     "text": [
      "torch.Size([10, 1, 28, 28])\n",
      "1.0 0.0\n"
     ]
    },
    {
     "data": {
      "image/png": "[encoded data removed]",
      "text/plain": [
       "<Figure size 2000x400 with 10 Axes>"
      ]
     },
     "metadata": {},
     "output_type": "display_data"
    }
   ],
   "source": [
    "train(generator, discriminator, opt_g, opt_d, criterion, dataloader, 10, 10)\n",
    "dim_latent = 10\n",
    "test_generator(generator, dim_latent)"
   ]
  },
  {
   "cell_type": "code",
   "execution_count": null,
   "metadata": {},
   "outputs": [],
   "source": []
  }
 ],
 "metadata": {
  "kernelspec": {
   "display_name": "torch",
   "language": "python",
   "name": "python3"
  },
  "language_info": {
   "codemirror_mode": {
    "name": "ipython",
    "version": 3
   },
   "file_extension": ".py",
   "mimetype": "text/x-python",
   "name": "python",
   "nbconvert_exporter": "python",
   "pygments_lexer": "ipython3",
   "version": "3.9.15"
  },
  "orig_nbformat": 4
 },
 "nbformat": 4,
 "nbformat_minor": 2
}
