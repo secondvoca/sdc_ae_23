{
 "cells": [
  {
   "cell_type": "code",
   "execution_count": 1,
   "metadata": {},
   "outputs": [
    {
     "name": "stdout",
     "output_type": "stream",
     "text": [
      "Sequential(\n",
      "  (encoder): My_Encoder(\n",
      "    (l0): Linear(in_features=784, out_features=512, bias=True)\n",
      "    (l1): Linear(in_features=512, out_features=512, bias=True)\n",
      "    (l2): Linear(in_features=512, out_features=2, bias=True)\n",
      "  )\n",
      "  (decoder): My_Decoder(\n",
      "    (l0): Linear(in_features=2, out_features=512, bias=True)\n",
      "    (l1): Linear(in_features=512, out_features=512, bias=True)\n",
      "    (l2): Linear(in_features=512, out_features=784, bias=True)\n",
      "  )\n",
      ")\n"
     ]
    }
   ],
   "source": [
    "#@title simple demo\n",
    "from myAE import SDC_AE\n",
    "\n",
    "manager = SDC_AE()\n",
    "manager.prepare_data()\n",
    "manager.prepare_model(2, 2, 'tanh')\n",
    "print(manager.model)"
   ]
  }
 ],
 "metadata": {
  "kernelspec": {
   "display_name": "torch",
   "language": "python",
   "name": "python3"
  },
  "language_info": {
   "codemirror_mode": {
    "name": "ipython",
    "version": 3
   },
   "file_extension": ".py",
   "mimetype": "text/x-python",
   "name": "python",
   "nbconvert_exporter": "python",
   "pygments_lexer": "ipython3",
   "version": "3.9.15"
  },
  "orig_nbformat": 4
 },
 "nbformat": 4,
 "nbformat_minor": 2
}
