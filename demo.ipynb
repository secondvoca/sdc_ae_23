{
 "cells": [
  {
   "cell_type": "code",
   "execution_count": 1,
   "metadata": {},
   "outputs": [
    {
     "name": "stdout",
     "output_type": "stream",
     "text": [
      "Sequential(\n",
      "  (encoder): My_Encoder(\n",
      "    (l0): Linear(in_features=784, out_features=512, bias=True)\n",
      "    (l1): Linear(in_features=512, out_features=512, bias=True)\n",
      "    (l2): Linear(in_features=512, out_features=2, bias=True)\n",
      "  )\n",
      "  (decoder): My_Decoder(\n",
      "    (l0): Linear(in_features=2, out_features=512, bias=True)\n",
      "    (l1): Linear(in_features=512, out_features=512, bias=True)\n",
      "    (l2): Linear(in_features=512, out_features=784, bias=True)\n",
      "  )\n",
      ")\n",
      "cuda:1\n"
     ]
    },
    {
     "name": "stderr",
     "output_type": "stream",
     "text": [
      "100%|██████████| 5/5 [00:26<00:00,  5.32s/it]\n"
     ]
    },
    {
     "data": {
      "text/plain": [
       "tensor([  -547.1995,   -591.1934,   -657.8546,  ..., -66818.8125,\n",
       "        -66952.8281, -67351.8984])"
      ]
     },
     "execution_count": 1,
     "metadata": {},
     "output_type": "execute_result"
    }
   ],
   "source": [
    "#@title simple demo\n",
    "from myAE import SDC_AE\n",
    "\n",
    "manager = SDC_AE()\n",
    "manager.prepare_data()\n",
    "manager.prepare_model(2, 2, 'tanh')\n",
    "print(manager.model)\n",
    "\n",
    "def calc_loss(model, x, F):\n",
    "  h = model.get_submodule(\"encoder\")(x)\n",
    "  pred = model.get_submodule(\"decoder\")(h)\n",
    "  likelihood = F.binary_cross_entropy(pred, x, reduction='sum')/len(x)\n",
    "  return -likelihood\n",
    "\n",
    "hist = manager.train(calc_loss)"
   ]
  }
 ],
 "metadata": {
  "kernelspec": {
   "display_name": "torch",
   "language": "python",
   "name": "python3"
  },
  "language_info": {
   "codemirror_mode": {
    "name": "ipython",
    "version": 3
   },
   "file_extension": ".py",
   "mimetype": "text/x-python",
   "name": "python",
   "nbconvert_exporter": "python",
   "pygments_lexer": "ipython3",
   "version": "3.9.15"
  },
  "orig_nbformat": 4
 },
 "nbformat": 4,
 "nbformat_minor": 2
}
