{
 "cells": [
  {
   "cell_type": "markdown",
   "metadata": {},
   "source": [
    "# 여러 샘플이 겹친듯한 결과에 대한 연구"
   ]
  },
  {
   "cell_type": "code",
   "execution_count": 2,
   "metadata": {},
   "outputs": [
    {
     "name": "stdout",
     "output_type": "stream",
     "text": [
      "Now, it is working on cuda:1.\n"
     ]
    },
    {
     "name": "stderr",
     "output_type": "stream",
     "text": [
      "100%|██████████| 30/30 [02:31<00:00,  5.05s/it]\n"
     ]
    }
   ],
   "source": [
    "from myAE import Manager\n",
    "\n",
    "manager = Manager()\n",
    "manager.prepare_data()\n",
    "manager.set_default_model(2)\n",
    "\n",
    "def calc_loss(model, x, y, F, device):\n",
    "    z = model.get_submodule(\"encoder\")(x)\n",
    "    x_hat = model.get_submodule(\"decoder\")(z)\n",
    "    loss = F.binary_cross_entropy(x_hat, x, reduction='sum')/len(x)\n",
    "    return loss\n",
    "\n",
    "hist = manager.train(calc_loss, epochs=30)"
   ]
  },
  {
   "cell_type": "code",
   "execution_count": 3,
   "metadata": {},
   "outputs": [],
   "source": [
    "manager.save_current_model('default_30eps')"
   ]
  }
 ],
 "metadata": {
  "kernelspec": {
   "display_name": "torch",
   "language": "python",
   "name": "python3"
  },
  "language_info": {
   "codemirror_mode": {
    "name": "ipython",
    "version": 3
   },
   "file_extension": ".py",
   "mimetype": "text/x-python",
   "name": "python",
   "nbconvert_exporter": "python",
   "pygments_lexer": "ipython3",
   "version": "3.9.15"
  },
  "orig_nbformat": 4
 },
 "nbformat": 4,
 "nbformat_minor": 2
}
