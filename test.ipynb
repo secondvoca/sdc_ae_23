{
 "cells": [
  {
   "cell_type": "code",
   "execution_count": 1,
   "metadata": {},
   "outputs": [
    {
     "name": "stdout",
     "output_type": "stream",
     "text": [
      "hello nas\n",
      "\n"
     ]
    }
   ],
   "source": [
    "path = '/home/nas/data/secondvoca/test.txt'\n",
    "with open(path, 'r') as f:\n",
    "    ls = f.readlines()\n",
    "    for l in ls:\n",
    "        print(l)"
   ]
  },
  {
   "cell_type": "code",
   "execution_count": 2,
   "metadata": {},
   "outputs": [
    {
     "name": "stdout",
     "output_type": "stream",
     "text": [
      "1.5\n",
      "1.4166666666666665\n",
      "1.4142156862745097\n",
      "1.4142135623746899\n",
      "1.414213562373095\n",
      "1.414213562373095\n",
      "1.414213562373095\n",
      "1.414213562373095\n",
      "1.414213562373095\n",
      "1.414213562373095\n"
     ]
    }
   ],
   "source": [
    "a0 = 1\n",
    "for _ in range(10):\n",
    "    a0 = (a0 + (2 / a0)) / 2\n",
    "    print(a0)"
   ]
  },
  {
   "cell_type": "code",
   "execution_count": 1,
   "metadata": {},
   "outputs": [
    {
     "name": "stdout",
     "output_type": "stream",
     "text": [
      "True\n"
     ]
    }
   ],
   "source": [
    "def eq_mod(a, b, d):\n",
    "    return a % d == b % d\n",
    "\n",
    "print(eq_mod(37, 27, 10))"
   ]
  },
  {
   "cell_type": "code",
   "execution_count": 2,
   "metadata": {},
   "outputs": [
    {
     "name": "stdout",
     "output_type": "stream",
     "text": [
      "4\n"
     ]
    }
   ],
   "source": [
    "for i in range(100):\n",
    "    if i**2 % 10 == 6:\n",
    "        print(i)\n",
    "        break"
   ]
  },
  {
   "cell_type": "code",
   "execution_count": 3,
   "metadata": {},
   "outputs": [
    {
     "name": "stdout",
     "output_type": "stream",
     "text": [
      "1\n"
     ]
    }
   ],
   "source": [
    "for i in range(100):\n",
    "    if i**2 % 10 == 1:\n",
    "        print(i)\n",
    "        break"
   ]
  },
  {
   "cell_type": "code",
   "execution_count": 8,
   "metadata": {},
   "outputs": [
    {
     "name": "stdout",
     "output_type": "stream",
     "text": [
      "3\n"
     ]
    }
   ],
   "source": [
    "for i in range(100000):\n",
    "    if i**2 % 7 == 2:\n",
    "        print(i)\n",
    "        break"
   ]
  },
  {
   "cell_type": "code",
   "execution_count": 11,
   "metadata": {},
   "outputs": [
    {
     "name": "stdout",
     "output_type": "stream",
     "text": [
      "1\n"
     ]
    }
   ],
   "source": [
    "import random\n",
    "\n",
    "p = 11\n",
    "q = 13\n",
    "\n",
    "n = random.randint(10, 1000)\n",
    "m = p * q\n",
    "print(n**((p - 1) * (q - 1)) % m)"
   ]
  },
  {
   "cell_type": "code",
   "execution_count": 7,
   "metadata": {},
   "outputs": [
    {
     "name": "stdout",
     "output_type": "stream",
     "text": [
      "001 1050.00\n",
      "002 1102.50\n",
      "003 1157.62\n",
      "004 1215.51\n",
      "005 1276.28\n"
     ]
    }
   ],
   "source": [
    "principal = 1000         # Initial amount\n",
    "rate = 0.05              # Interest rate\n",
    "numyears = 5             # Number of years\n",
    "year = 1\n",
    "while year <= numyears:\n",
    "    principal = principal * (1 + rate)\n",
    "    print(f'{year:>03d} {principal:.2f}')\n",
    "    # print(year, principal)\n",
    "    year += 1\n"
   ]
  },
  {
   "cell_type": "code",
   "execution_count": 13,
   "metadata": {},
   "outputs": [
    {
     "name": "stdout",
     "output_type": "stream",
     "text": [
      "9.0 4.199999999999998\n",
      "10.0\n"
     ]
    }
   ],
   "source": [
    "print(42 // 4.2)\n",
    "print(42 / 4.2)"
   ]
  },
  {
   "cell_type": "code",
   "execution_count": 18,
   "metadata": {},
   "outputs": [
    {
     "data": {
      "text/plain": [
       "(9.0, 4.199999999999998)"
      ]
     },
     "execution_count": 18,
     "metadata": {},
     "output_type": "execute_result"
    }
   ],
   "source": [
    "divmod(42, 4.2)"
   ]
  },
  {
   "cell_type": "code",
   "execution_count": 21,
   "metadata": {},
   "outputs": [
    {
     "data": {
      "text/plain": [
       "1"
      ]
     },
     "execution_count": 21,
     "metadata": {},
     "output_type": "execute_result"
    }
   ],
   "source": [
    "pow(4, 3, 3)"
   ]
  },
  {
   "cell_type": "code",
   "execution_count": 16,
   "metadata": {},
   "outputs": [
    {
     "data": {
      "text/plain": [
       "42.0"
      ]
     },
     "execution_count": 16,
     "metadata": {},
     "output_type": "execute_result"
    }
   ],
   "source": [
    "(42 // 4.2) * 4.2 + (42 % 4.2)"
   ]
  },
  {
   "cell_type": "code",
   "execution_count": 17,
   "metadata": {},
   "outputs": [
    {
     "data": {
      "text/plain": [
       "42.0"
      ]
     },
     "execution_count": 17,
     "metadata": {},
     "output_type": "execute_result"
    }
   ],
   "source": [
    "(42 / 4.2) * 4.2"
   ]
  },
  {
   "cell_type": "code",
   "execution_count": 24,
   "metadata": {},
   "outputs": [
    {
     "name": "stdout",
     "output_type": "stream",
     "text": [
      "1100 12\n"
     ]
    }
   ],
   "source": [
    "a = 0b11001001\n",
    "mask = 0b11110000\n",
    "x = (a & mask) >> 4 # x = 0b1100 (12)\n",
    "print(f'{x:b} {x}')"
   ]
  },
  {
   "cell_type": "code",
   "execution_count": 13,
   "metadata": {},
   "outputs": [
    {
     "data": {
      "image/png": "[encoded data removed]",
      "text/plain": [
       "<Figure size 640x480 with 1 Axes>"
      ]
     },
     "metadata": {},
     "output_type": "display_data"
    }
   ],
   "source": [
    "import torch\n",
    "import matplotlib.pyplot as plt\n",
    "\n",
    "def f(t):\n",
    "    return 15 * t - 95 * t**2 + 180 * t**3 - 100 * t**4\n",
    "\n",
    "xs = torch.linspace(0, 1, 101)\n",
    "ys = f(xs)\n",
    "\n",
    "plt.plot(xs, ys)\n",
    "plt.show()"
   ]
  },
  {
   "cell_type": "code",
   "execution_count": 14,
   "metadata": {},
   "outputs": [
    {
     "data": {
      "text/plain": [
       "[tensor(0.8810),\n",
       " tensor(-0.9675),\n",
       " tensor(1.0654),\n",
       " tensor(-0.1209),\n",
       " tensor(0.2480),\n",
       " tensor(-0.0358),\n",
       " tensor(0.0922),\n",
       " tensor(-0.0151),\n",
       " tensor(0.0437),\n",
       " tensor(-0.0077),\n",
       " tensor(0.0240),\n",
       " tensor(-0.0045),\n",
       " tensor(0.0146),\n",
       " tensor(-0.0028),\n",
       " tensor(0.0095),\n",
       " tensor(-0.0019),\n",
       " tensor(0.0065),\n",
       " tensor(-0.0013),\n",
       " tensor(0.0047)]"
      ]
     },
     "execution_count": 14,
     "metadata": {},
     "output_type": "execute_result"
    }
   ],
   "source": [
    "import math\n",
    "\n",
    "def get_a(xs, n, ys):\n",
    "    return ((xs * n * math.pi).sin() @ ys) / ((xs * n * math.pi).sin() @ (xs * n * math.pi).sin())\n",
    "\n",
    "aa = [get_a(xs, n, ys) for n in range(1, 20)]\n",
    "aa"
   ]
  },
  {
   "cell_type": "code",
   "execution_count": 15,
   "metadata": {},
   "outputs": [
    {
     "data": {
      "text/plain": [
       "tensor([ 0.0000e+00,  1.3000e-01,  2.5358e-01,  3.6530e-01,  4.6137e-01,\n",
       "         5.4005e-01,  6.0154e-01,  6.4748e-01,  6.8030e-01,  7.0247e-01,\n",
       "         7.1592e-01,  7.2181e-01,  7.2052e-01,  7.1195e-01,  6.9592e-01,\n",
       "         6.7251e-01,  6.4230e-01,  6.0633e-01,  5.6599e-01,  5.2263e-01,\n",
       "         4.7741e-01,  4.3102e-01,  3.8375e-01,  3.3561e-01,  2.8654e-01,\n",
       "         2.3664e-01,  1.8635e-01,  1.3641e-01,  8.7758e-02,  4.1347e-02,\n",
       "        -2.0767e-03, -4.2092e-02, -7.8612e-02, -1.1178e-01, -1.4178e-01,\n",
       "        -1.6866e-01, -1.9220e-01, -2.1193e-01, -2.2720e-01, -2.3735e-01,\n",
       "        -2.4192e-01, -2.4076e-01, -2.3399e-01, -2.2198e-01, -2.0512e-01,\n",
       "        -1.8370e-01, -1.5771e-01, -1.2694e-01, -9.0970e-02, -4.9392e-02,\n",
       "        -1.9798e-03,  5.1196e-02,  1.0975e-01,  1.7306e-01,  2.4047e-01,\n",
       "         3.1145e-01,  3.8572e-01,  4.6330e-01,  5.4439e-01,  6.2920e-01,\n",
       "         7.1777e-01,  8.0980e-01,  9.0465e-01,  1.0014e+00,  1.0991e+00,\n",
       "         1.1968e+00,  1.2941e+00,  1.3908e+00,  1.4868e+00,  1.5823e+00,\n",
       "         1.6772e+00,  1.7710e+00,  1.8627e+00,  1.9511e+00,  2.0348e+00,\n",
       "         2.1126e+00,  2.1835e+00,  2.2474e+00,  2.3041e+00,  2.3537e+00,\n",
       "         2.3962e+00,  2.4307e+00,  2.4562e+00,  2.4707e+00,  2.4723e+00,\n",
       "         2.4592e+00,  2.4302e+00,  2.3848e+00,  2.3233e+00,  2.2461e+00,\n",
       "         2.1535e+00,  2.0449e+00,  1.9183e+00,  1.7708e+00,  1.5987e+00,\n",
       "         1.3986e+00,  1.1684e+00,  9.0854e-01,  6.2239e-01,  3.1649e-01,\n",
       "        -7.4895e-07])"
      ]
     },
     "execution_count": 15,
     "metadata": {},
     "output_type": "execute_result"
    }
   ],
   "source": [
    "ny = torch.zeros_like(ys)\n",
    "for idx, a in enumerate(aa):\n",
    "    ny.add_((xs * (idx + 1) * math.pi).sin() * a)\n",
    "ny"
   ]
  },
  {
   "cell_type": "code",
   "execution_count": 16,
   "metadata": {},
   "outputs": [
    {
     "data": {
      "image/png": "[encoded data removed]",
      "text/plain": [
       "<Figure size 640x480 with 1 Axes>"
      ]
     },
     "metadata": {},
     "output_type": "display_data"
    }
   ],
   "source": [
    "plt.plot(xs, ys)\n",
    "plt.plot(xs, ny)\n",
    "plt.show()"
   ]
  },
  {
   "cell_type": "code",
   "execution_count": 38,
   "metadata": {},
   "outputs": [
    {
     "data": {
      "text/plain": [
       "tensor([0.3217, 0.7094, 0.2839])"
      ]
     },
     "execution_count": 38,
     "metadata": {},
     "output_type": "execute_result"
    }
   ],
   "source": [
    "tmp = torch.rand(3)\n",
    "tmp"
   ]
  },
  {
   "cell_type": "code",
   "execution_count": 39,
   "metadata": {},
   "outputs": [
    {
     "data": {
      "text/plain": [
       "tensor([1.2655, 0.7330, 0.8087])"
      ]
     },
     "execution_count": 39,
     "metadata": {},
     "output_type": "execute_result"
    }
   ],
   "source": [
    "tmp.add_(torch.rand(3))"
   ]
  },
  {
   "cell_type": "code",
   "execution_count": 40,
   "metadata": {},
   "outputs": [
    {
     "data": {
      "text/plain": [
       "tensor([1.8250, 1.2327, 0.9160])"
      ]
     },
     "execution_count": 40,
     "metadata": {},
     "output_type": "execute_result"
    }
   ],
   "source": [
    "tmp.add_(torch.rand(3))"
   ]
  },
  {
   "cell_type": "code",
   "execution_count": 41,
   "metadata": {},
   "outputs": [
    {
     "data": {
      "text/plain": [
       "tensor([1.8250, 1.2327, 0.9160])"
      ]
     },
     "execution_count": 41,
     "metadata": {},
     "output_type": "execute_result"
    }
   ],
   "source": [
    "tmp"
   ]
  },
  {
   "cell_type": "code",
   "execution_count": 4,
   "metadata": {},
   "outputs": [
    {
     "data": {
      "text/plain": [
       "(-3.3, 3.3, -0.015284517477266491, 0.4184755218913779)"
      ]
     },
     "execution_count": 4,
     "metadata": {},
     "output_type": "execute_result"
    },
    {
     "data": {
      "image/png": "[encoded data removed]",
      "text/plain": [
       "<Figure size 900x200 with 1 Axes>"
      ]
     },
     "metadata": {},
     "output_type": "display_data"
    }
   ],
   "source": [
    "import torch\n",
    "import matplotlib.pyplot as plt\n",
    "\n",
    "dist = torch.distributions.Normal(0, 1)\n",
    "x = torch.linspace(-3, 3, 100)\n",
    "y = dist.log_prob(x).exp()\n",
    "\n",
    "plt.figure(figsize=[9, 2])\n",
    "plt.plot(x, y)\n",
    "plt.axis('off')"
   ]
  }
 ],
 "metadata": {
  "kernelspec": {
   "display_name": "torch",
   "language": "python",
   "name": "python3"
  },
  "language_info": {
   "codemirror_mode": {
    "name": "ipython",
    "version": 3
   },
   "file_extension": ".py",
   "mimetype": "text/x-python",
   "name": "python",
   "nbconvert_exporter": "python",
   "pygments_lexer": "ipython3",
   "version": "3.9.15"
  },
  "orig_nbformat": 4
 },
 "nbformat": 4,
 "nbformat_minor": 2
}
