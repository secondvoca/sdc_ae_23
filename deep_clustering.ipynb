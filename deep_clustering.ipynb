{
 "cells": [
  {
   "cell_type": "code",
   "execution_count": 16,
   "metadata": {},
   "outputs": [
    {
     "name": "stdout",
     "output_type": "stream",
     "text": [
      "Now, it is working on cuda:1.\n"
     ]
    },
    {
     "name": "stderr",
     "output_type": "stream",
     "text": [
      "100%|██████████| 50/50 [04:31<00:00,  5.43s/it]\n"
     ]
    }
   ],
   "source": [
    "from myAE import SDC_AE\n",
    "import torch\n",
    "\n",
    "manager = SDC_AE()\n",
    "manager.prepare_data()\n",
    "manager.prepare_model(22, 12)\n",
    "\n",
    "def calc_loss(model, x, F, device):\n",
    "\n",
    "  oh = F.one_hot(torch.arange(10, device=device))\n",
    "  ps = torch.cat([torch.zeros(10, 2, device=device), oh], dim=1) * 10\n",
    "  \n",
    "  h = model.get_submodule(\"encoder\")(x)\n",
    "  z = h[:, :12]\n",
    "  log_prob = h[:, 12:]\n",
    "  max_prob = log_prob.argmax(dim=1)\n",
    "  one_hot_prob = F.one_hot(max_prob, num_classes=10)\n",
    "  dist = (((torch.stack([z]*10, dim=1) - ps).square().sum(dim=2) * one_hot_prob).max(dim=1).values).mean()\n",
    "  pred = model.get_submodule(\"decoder\")(z)\n",
    "  \n",
    "  ll = F.binary_cross_entropy(pred, x, reduction='sum')/len(x)\n",
    "  loss = ll + dist\n",
    "  return loss\n",
    "\n",
    "hist = manager.train(calc_loss, epochs=50)"
   ]
  },
  {
   "cell_type": "code",
   "execution_count": 17,
   "metadata": {},
   "outputs": [],
   "source": [
    "manager.save_current_model('dc_ae_12dim_10s_50ep')"
   ]
  },
  {
   "cell_type": "code",
   "execution_count": 20,
   "metadata": {},
   "outputs": [
    {
     "name": "stdout",
     "output_type": "stream",
     "text": [
      "tensor([0, 0, 0, 0, 0, 0, 0, 0, 0, 0, 0])\n",
      "tensor([0, 0, 0, 0, 0, 0, 0, 0, 0, 0, 0, 0])\n",
      "tensor([0, 0, 0, 0, 0, 0, 0, 0, 0, 0, 0])\n",
      "tensor([0, 0, 0, 0, 0, 0, 0, 0, 0, 0, 0, 0, 0, 0, 0, 0])\n",
      "tensor([0, 0, 0, 0, 0, 0, 0, 0, 0, 0, 0, 0, 0, 0, 0, 2])\n",
      "tensor([0, 0, 0, 0, 0, 0, 0, 0, 0])\n",
      "tensor([0, 0, 0, 0, 0, 0, 0])\n",
      "tensor([0, 0, 0, 0, 0, 0, 0, 2, 0, 0, 0, 0, 0, 0, 0, 0, 0, 0])\n",
      "tensor([0, 0, 0, 0, 0, 0, 0, 0])\n",
      "tensor([0, 0, 0, 0, 0, 0, 0, 0, 0, 0, 0, 0, 0, 0, 0, 0, 0, 0, 0, 0])\n"
     ]
    }
   ],
   "source": [
    "with torch.no_grad():\n",
    "  manager.model.to('cpu')\n",
    "  manager.model.eval()\n",
    "  for x, y in manager.train_dataloader:\n",
    "    x = x.reshape([-1, 784])\n",
    "    h = manager.model.get_submodule('encoder')(x)\n",
    "    log_prob = h[:, 12:]\n",
    "    max_prob = log_prob.argmax(dim=1)\n",
    "    for idx in range(10):\n",
    "      print(max_prob[y==idx])\n",
    "    break"
   ]
  }
 ],
 "metadata": {
  "kernelspec": {
   "display_name": "torch",
   "language": "python",
   "name": "python3"
  },
  "language_info": {
   "codemirror_mode": {
    "name": "ipython",
    "version": 3
   },
   "file_extension": ".py",
   "mimetype": "text/x-python",
   "name": "python",
   "nbconvert_exporter": "python",
   "pygments_lexer": "ipython3",
   "version": "3.9.15"
  },
  "orig_nbformat": 4
 },
 "nbformat": 4,
 "nbformat_minor": 2
}
